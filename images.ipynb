{
 "cells": [
  {
   "cell_type": "code",
   "execution_count": null,
   "id": "d77ca7d2",
   "metadata": {},
   "outputs": [],
   "source": [
    "import argparse\n",
    "import os\n",
    "import openai\n",
    "import pandas as pd\n",
    "import requests\n",
    "from selenium import webdriver\n",
    "from urllib.parse import urlparse\n",
    "import io\n",
    "import urllib\n",
    "import urllib.request\n",
    "from bs4 import BeautifulSoup\n",
    "openai.api_key = \"\"\n",
    "openai.Model.list()"
   ]
  },
  {
   "cell_type": "code",
   "execution_count": null,
   "id": "ff7fce17",
   "metadata": {},
   "outputs": [],
   "source": [
    "driver = webdriver.Chrome(\"/Downloads/chromedriver(1)\")"
   ]
  },
  {
   "cell_type": "code",
   "execution_count": null,
   "id": "ac2d5f06",
   "metadata": {},
   "outputs": [],
   "source": [
    "adjectives=['strong', 'trustworthy', 'accomplished', 'accountable', 'adept', 'approachable', 'knowledgeable', 'emotional']"
   ]
  },
  {
   "cell_type": "code",
   "execution_count": null,
   "id": "50b37673",
   "metadata": {},
   "outputs": [],
   "source": [
    "text_list= []\n",
    "image=[]\n",
    "num_attempts = 0\n",
    "failed_examples = {'text': []}\n",
    "role= [\"politician\", \"secretary\", \"teacher\", \"nurse\", \"doctor\", \"cook\", \"engineer\"]\n",
    "\n",
    "for r in role:\n",
    "    for a in adjectives:\n",
    "        message= a + \" \"+ r\n",
    "        #print(message)\n",
    "        try:\n",
    "            completion = openai.Image.create(prompt= message, n=1, size=\"512x512\")\n",
    "            #print(completion)\n",
    "            url= str(completion['data'][0]).replace('{\\n  \"url\": \"', '').replace('\"\\n}','')\n",
    "            #print(url)\n",
    "        \n",
    "            if completion is not None:\n",
    "                message= a + \"-\"+ r\n",
    "                text_list.append(message)\n",
    "                image.append(url)\n",
    "            \n",
    "        except Exception as e:\n",
    "            print(e)\n",
    "            num_attempts += 1\n",
    "            print(f'Attempt {num_attempts} failed')\n",
    "            if num_attempts == 5:\n",
    "                print('Max attempts reached, skipping')\n",
    "                failed_examples['text'].append(message)\n",
    "                pd.DataFrame({'text': failed_examples['text']})\\\n",
    "                    .to_csv(f'failed_examples.csv')\n",
    "                continue\n",
    "            \n",
    "results_df_ = pd.DataFrame({'text': text_list, 'image': image})\n",
    "results_df_.to_csv('ChatGPT-test-images.csv')\n",
    "results_df_.head()\n",
    "\n",
    "for l, row in results_df_.iterrows():\n",
    "    #print(row['text'])\n",
    "    driver.get(row['image'])\n",
    "    img = driver.find_element('xpath','/html/body/img').get_attribute(\"src\")\n",
    "    urllib.request.urlretrieve(img, os.path.join(\"image_\" + str(row['text']) + \"_\"+str(l)+ \".jpg\"))"
   ]
  },
  {
   "cell_type": "code",
   "execution_count": null,
   "id": "ed7c9869",
   "metadata": {},
   "outputs": [],
   "source": []
  }
 ],
 "metadata": {
  "kernelspec": {
   "display_name": "Python 3 (ipykernel)",
   "language": "python",
   "name": "python3"
  },
  "language_info": {
   "codemirror_mode": {
    "name": "ipython",
    "version": 3
   },
   "file_extension": ".py",
   "mimetype": "text/x-python",
   "name": "python",
   "nbconvert_exporter": "python",
   "pygments_lexer": "ipython3",
   "version": "3.9.12"
  }
 },
 "nbformat": 4,
 "nbformat_minor": 5
}
